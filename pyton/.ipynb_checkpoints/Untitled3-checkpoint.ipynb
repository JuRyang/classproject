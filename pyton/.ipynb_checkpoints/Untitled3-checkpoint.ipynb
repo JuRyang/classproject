{
 "cells": [
  {
   "cell_type": "code",
   "execution_count": 1,
   "metadata": {
    "ExecuteTime": {
     "end_time": "2021-02-17T02:54:50.772531Z",
     "start_time": "2021-02-17T02:54:49.040524Z"
    }
   },
   "outputs": [
    {
     "ename": "NameError",
     "evalue": "name 'project_db' is not defined",
     "output_type": "error",
     "traceback": [
      "\u001b[1;31m---------------------------------------------------------------------------\u001b[0m",
      "\u001b[1;31mNameError\u001b[0m                                 Traceback (most recent call last)",
      "\u001b[1;32m<ipython-input-1-d18857de1024>\u001b[0m in \u001b[0;36m<module>\u001b[1;34m\u001b[0m\n\u001b[0;32m      5\u001b[0m )\n\u001b[0;32m      6\u001b[0m \u001b[1;33m\u001b[0m\u001b[0m\n\u001b[1;32m----> 7\u001b[1;33m \u001b[0mcursor1\u001b[0m \u001b[1;33m=\u001b[0m\u001b[0mproject_db\u001b[0m\u001b[1;33m.\u001b[0m\u001b[0mcursor\u001b[0m\u001b[1;33m(\u001b[0m\u001b[1;33m)\u001b[0m\u001b[1;33m\u001b[0m\u001b[1;33m\u001b[0m\u001b[0m\n\u001b[0m\u001b[0;32m      8\u001b[0m \u001b[1;33m\u001b[0m\u001b[0m\n\u001b[0;32m      9\u001b[0m \u001b[0msql_select\u001b[0m \u001b[1;33m=\u001b[0m \u001b[1;34m'select * from member'\u001b[0m\u001b[1;33m\u001b[0m\u001b[1;33m\u001b[0m\u001b[0m\n",
      "\u001b[1;31mNameError\u001b[0m: name 'project_db' is not defined"
     ]
    }
   ],
   "source": [
    "import pymysql\n",
    "\n",
    "#db연결\n",
    "porject_db = pymysql.connect(host='127.0.0.1', db='opn', user='aia', passwd='aia', charset='utf8')\n",
    "\n",
    "cursor1 =porject_db.cursor()\n",
    "\n",
    "sql_select = 'select * from member'\n",
    "\n",
    "cursor1.execute(sql_select)\n",
    "\n",
    "while True:\n",
    "    print(cursor1.fetchone())\n",
    "\n",
    "porject_db.close()"
   ]
  },
  {
   "cell_type": "code",
   "execution_count": null,
   "metadata": {},
   "outputs": [],
   "source": []
  }
 ],
 "metadata": {
  "hide_input": false,
  "kernelspec": {
   "display_name": "Python 3",
   "language": "python",
   "name": "python3"
  },
  "language_info": {
   "codemirror_mode": {
    "name": "ipython",
    "version": 3
   },
   "file_extension": ".py",
   "mimetype": "text/x-python",
   "name": "python",
   "nbconvert_exporter": "python",
   "pygments_lexer": "ipython3",
   "version": "3.8.5"
  }
 },
 "nbformat": 4,
 "nbformat_minor": 4
}
