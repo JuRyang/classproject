{
 "cells": [
  {
   "cell_type": "code",
   "execution_count": 2,
   "metadata": {
    "ExecuteTime": {
     "end_time": "2021-02-04T00:59:16.067280Z",
     "start_time": "2021-02-04T00:59:16.057775Z"
    }
   },
   "outputs": [],
   "source": [
    "#프로그램의 흐름제어: 분기 / 반복"
   ]
  },
  {
   "cell_type": "code",
   "execution_count": null,
   "metadata": {},
   "outputs": [],
   "source": [
    "# if \n",
    "\n",
    "# if 논리값(비교연산 or 논리연산):\n",
    "#       실행문장 반드시 4칸 띄어쓰기"
   ]
  },
  {
   "cell_type": "code",
   "execution_count": 10,
   "metadata": {
    "ExecuteTime": {
     "end_time": "2021-02-04T01:07:49.377329Z",
     "start_time": "2021-02-04T01:07:47.760631Z"
    }
   },
   "outputs": [
    {
     "name": "stdout",
     "output_type": "stream",
     "text": [
      "정수 입력>>0\n",
      "0\n",
      "0\n"
     ]
    }
   ],
   "source": [
    "#입력값 받기\n",
    "number = input('정수 입력>>')\n",
    "number = int(number)\n",
    "\n",
    "print(number)\n",
    "\n",
    "if number>0:\n",
    "    print('양수')\n",
    "    \n",
    "if number<0:\n",
    "    print('음수')\n",
    "if number == 0:\n",
    "    print(0)\n",
    "if number >0:\n",
    "    print('양수')\n",
    "elif number<0:\n",
    "    print('음수')"
   ]
  },
  {
   "cell_type": "code",
   "execution_count": 20,
   "metadata": {
    "ExecuteTime": {
     "end_time": "2021-02-04T02:02:41.926867Z",
     "start_time": "2021-02-04T02:02:41.886649Z"
    }
   },
   "outputs": [
    {
     "name": "stdout",
     "output_type": "stream",
     "text": [
      "2021-02-04 11:02:41.902059\n"
     ]
    },
    {
     "ename": "IndexError",
     "evalue": "Replacement index 5 out of range for positional args tuple",
     "output_type": "error",
     "traceback": [
      "\u001b[1;31m---------------------------------------------------------------------------\u001b[0m",
      "\u001b[1;31mIndexError\u001b[0m                                Traceback (most recent call last)",
      "\u001b[1;32m<ipython-input-20-11f7682a86ed>\u001b[0m in \u001b[0;36m<module>\u001b[1;34m\u001b[0m\n\u001b[0;32m      7\u001b[0m \u001b[1;31m#출력\u001b[0m\u001b[1;33m\u001b[0m\u001b[1;33m\u001b[0m\u001b[1;33m\u001b[0m\u001b[0m\n\u001b[0;32m      8\u001b[0m \u001b[0mprint\u001b[0m\u001b[1;33m(\u001b[0m\u001b[0mnow\u001b[0m\u001b[1;33m)\u001b[0m\u001b[1;33m\u001b[0m\u001b[1;33m\u001b[0m\u001b[0m\n\u001b[1;32m----> 9\u001b[1;33m \u001b[0mprint\u001b[0m\u001b[1;33m(\u001b[0m\u001b[1;34m'{}.{}.{}. {}:{}:{}'\u001b[0m\u001b[1;33m.\u001b[0m\u001b[0mformat\u001b[0m\u001b[1;33m(\u001b[0m\u001b[0mnow\u001b[0m\u001b[1;33m.\u001b[0m\u001b[0myear\u001b[0m\u001b[1;33m,\u001b[0m \u001b[0mnow\u001b[0m\u001b[1;33m.\u001b[0m\u001b[0mmonth\u001b[0m\u001b[1;33m,\u001b[0m \u001b[0mnow\u001b[0m\u001b[1;33m.\u001b[0m\u001b[0mday\u001b[0m\u001b[1;33m,\u001b[0m \u001b[0mnow\u001b[0m\u001b[1;33m.\u001b[0m\u001b[0mhour\u001b[0m\u001b[1;33m,\u001b[0m \u001b[0mnow\u001b[0m\u001b[1;33m.\u001b[0m\u001b[0msecond\u001b[0m\u001b[1;33m)\u001b[0m\u001b[1;33m)\u001b[0m\u001b[1;33m\u001b[0m\u001b[1;33m\u001b[0m\u001b[0m\n\u001b[0m\u001b[0;32m     10\u001b[0m \u001b[0mprint\u001b[0m\u001b[1;33m(\u001b[0m\u001b[0mnow\u001b[0m\u001b[1;33m.\u001b[0m\u001b[0myear\u001b[0m\u001b[1;33m)\u001b[0m\u001b[1;33m\u001b[0m\u001b[1;33m\u001b[0m\u001b[0m\n\u001b[0;32m     11\u001b[0m \u001b[0mprint\u001b[0m\u001b[1;33m(\u001b[0m\u001b[0mnow\u001b[0m\u001b[1;33m.\u001b[0m\u001b[0mmonth\u001b[0m\u001b[1;33m)\u001b[0m\u001b[1;33m\u001b[0m\u001b[1;33m\u001b[0m\u001b[0m\n",
      "\u001b[1;31mIndexError\u001b[0m: Replacement index 5 out of range for positional args tuple"
     ]
    }
   ],
   "source": [
    "#모듈 호출\n",
    "import datetime\n",
    "\n",
    "#현재 시간 구하기\n",
    "now = datetime.datetime.now()\n",
    "\n",
    "#출력\n",
    "print(now)\n",
    "print('{}.{}.{}. {}:{}:{}'.format(now.year, now.month, now.day, now.hour, now.second))\n",
    "print(now.year)\n",
    "print(now.month)\n",
    "print(now.day)\n",
    "print(now.hour)\n",
    "print(now.minute)\n",
    "print(now.second)\n",
    "\n",
    "if 3 <= now.month <= 5 : \n",
    "    print('이번달은 {}월 봄입니다.' .format(now.month))\n",
    "if 6 <= now.month <= 8 : \n",
    "    print('이번달은 {}월 여름입니다.' .format(now.month)) \n",
    "if 9 <= now.month <= 11 : \n",
    "    print('이번달은 {}월 가을입니다.' .format(now.month))    \n",
    "if now.month == 12 or 1<=now.month<= 2 : \n",
    "    print('이번달은 {}월 겨울입니다.' .format(now.month))\n",
    "    "
   ]
  },
  {
   "cell_type": "code",
   "execution_count": 18,
   "metadata": {
    "ExecuteTime": {
     "end_time": "2021-02-04T02:00:15.777532Z",
     "start_time": "2021-02-04T02:00:14.066888Z"
    }
   },
   "outputs": [
    {
     "name": "stdout",
     "output_type": "stream",
     "text": [
      "정수 입력>>33\n",
      "홀수\n",
      "홀수\n"
     ]
    }
   ],
   "source": [
    "#홀짝수 판별\n",
    "number = input('정수 입력>>')\n",
    "num = number[-1] #문자열의 마지막 문자를 반환(추출)\n",
    "\n",
    "if num in '02468':\n",
    "    print('짝수')\n",
    "if num in '13579':\n",
    "    print('홀수')\n",
    "    \n",
    "last_num = int(num)%2    \n",
    "\n",
    "if last_num == 0:\n",
    "    print('짝수')\n",
    "else :\n",
    "    print('홀수')\n",
    "    "
   ]
  },
  {
   "cell_type": "code",
   "execution_count": 21,
   "metadata": {
    "ExecuteTime": {
     "end_time": "2021-02-04T02:13:16.934659Z",
     "start_time": "2021-02-04T02:13:16.924777Z"
    }
   },
   "outputs": [
    {
     "name": "stdout",
     "output_type": "stream",
     "text": [
      "0입니다.\n",
      "데이터 입력 실패\n"
     ]
    }
   ],
   "source": [
    "#논리값 False로 변환되는 값 -> None, o, o,o, 비어있는 문자여르 비어있는 리스트\n",
    "\n",
    "result = 10 -10 #DB insert값\n",
    "\n",
    "if 0:\n",
    "    print('0이 아닙니다.')\n",
    "else:\n",
    "    print('0입니다.')\n",
    "if result:\n",
    "    print('데이터 입력 성공')\n",
    "else:\n",
    "    print('데이터 입력 실패')"
   ]
  },
  {
   "cell_type": "code",
   "execution_count": 25,
   "metadata": {
    "ExecuteTime": {
     "end_time": "2021-02-04T02:15:41.414574Z",
     "start_time": "2021-02-04T02:15:41.404262Z"
    }
   },
   "outputs": [],
   "source": [
    "#pass: \n",
    "#반드시 구현해야하는 영역에 비워두는 경우 오류 발생 \n",
    "#pass키워트를 사용하면 오류발생되지 않는다.\n",
    "\n",
    "zero = 0\n",
    "if zero ==0:\n",
    "    pass\n",
    "else :\n",
    "    pass\n"
   ]
  },
  {
   "cell_type": "code",
   "execution_count": 29,
   "metadata": {
    "ExecuteTime": {
     "end_time": "2021-02-04T02:44:11.272855Z",
     "start_time": "2021-02-04T02:44:11.250868Z"
    }
   },
   "outputs": [
    {
     "name": "stdout",
     "output_type": "stream",
     "text": [
      "[112, '문자열', 3.141237, True, False]\n",
      "문자열\n",
      "['문자열', 3.141237, True]\n",
      "[112, '문자열', 3.141237, True]\n",
      "[3.141237, True, False]\n"
     ]
    }
   ],
   "source": [
    "#여러 데이터를 저장해서 사용하는 list\n",
    "#         0        1            2        3\n",
    "list_a = [112, '문자열', 3.141237, True, False]\n",
    "\n",
    "print(list_a)\n",
    "print(list_a[1])\n",
    "print(list_a[1:4])\n",
    "print(list_a[:4])\n",
    "print(list_a[2:])"
   ]
  },
  {
   "cell_type": "code",
   "execution_count": 36,
   "metadata": {
    "ExecuteTime": {
     "end_time": "2021-02-04T02:56:44.856740Z",
     "start_time": "2021-02-04T02:56:44.835748Z"
    }
   },
   "outputs": [
    {
     "name": "stdout",
     "output_type": "stream",
     "text": [
      "list_a: [1, 2, 3]\n",
      "list_b: [4, 5, 6]\n",
      "\n",
      "[1, 2, 3, 4, 5, 6]\n",
      "[1, 2, 3, 1, 2, 3, 1, 2, 3]\n",
      "[1, 2, 3, 4, 5, 6, 1, 2, 3, 4, 5, 6, 1, 2, 3, 4, 5, 6]\n",
      "\n",
      "[1, 2, 3]\n"
     ]
    }
   ],
   "source": [
    "list_a=[1,2,3]\n",
    "list_b=[4,5,6]\n",
    "\n",
    "print('list_a:', list_a)\n",
    "print('list_b:', list_b)\n",
    "\n",
    "print()\n",
    "\n",
    "list_new = list_a+list_b\n",
    "list_new *= 3\n",
    "print(list_a+list_b)\n",
    "print(list_a*3)\n",
    "print(list_new)\n",
    "\n",
    "print()\n",
    "\n",
    "print(list_a)"
   ]
  },
  {
   "cell_type": "code",
   "execution_count": 58,
   "metadata": {
    "ExecuteTime": {
     "end_time": "2021-02-04T03:39:50.659517Z",
     "start_time": "2021-02-04T03:39:50.627513Z"
    }
   },
   "outputs": [
    {
     "name": "stdout",
     "output_type": "stream",
     "text": [
      "[1, 2, 3, 4, 5]\n",
      "[10, 1, 2, 3, 4, 5]\n",
      "[10, 1, 2, 3, 4, 5, 6, 7, 8, 9]\n",
      "1\n",
      "[1, 2, 3, 4, 5, 6, 7, 8, 9]\n",
      "8\n",
      "[1, 2, 3, 4, 5, 6, 8, 9]\n",
      "[1, 2, 3]\n",
      "[1, 1, 2]\n",
      "[]\n",
      "True\n",
      "False\n"
     ]
    }
   ],
   "source": [
    "list_c=[1,2,3]\n",
    "\n",
    "#리스트에 요소를 맨 뒤로 추가\n",
    "list_c.append(4)\n",
    "list_c.append(5)\n",
    "\n",
    "print(list_c)\n",
    "\n",
    "#특정 위치(index)에 요소 추가\n",
    "list_c.insert(0,10)\n",
    "\n",
    "print(list_c)\n",
    "\n",
    "#원본 리스트에 다른 리스트의 모든 요소를 추가\n",
    "list_d = [6,7,8,9]\n",
    "\n",
    "list_c.extend(list_d)\n",
    "\n",
    "print(list_c)\n",
    "\n",
    "\n",
    "#리스트 요소 삭제\n",
    "\n",
    "#del\n",
    "del list_c[0]\n",
    "\n",
    "print(list_c[0])\n",
    "print(list_c)\n",
    "\n",
    "#pop함수\n",
    "list_c.pop(6)\n",
    "print(list_c[6])\n",
    "print(list_c)\n",
    "\n",
    "#리스트의 범위 삭제: del\n",
    "#del list_c[3:6]\n",
    "#del list_c[:6]\n",
    "del list_c[3:]\n",
    "\n",
    "print(list_c)\n",
    "\n",
    "#요소의 값으로 요소 삭제: remove(요소값)\n",
    "list_e=[1,2,1,2]\n",
    "list_e.remove(2)\n",
    "\n",
    "print(list_e)\n",
    "\n",
    "#리스트의 모든 요소를 삭제: clear()\n",
    "list_c.clear()\n",
    "print(list_c)\n",
    "\n",
    "#in 연산자 : 포함 여부 확인 -> 결과 논리값\n",
    "#분기 처리하는 if의 조건식\n",
    "#반복의 조건\n",
    "print( 2 in list_e )\n",
    "print( 3 in list_e )\n",
    "\n",
    "\n"
   ]
  },
  {
   "cell_type": "code",
   "execution_count": 62,
   "metadata": {
    "ExecuteTime": {
     "end_time": "2021-02-04T03:46:37.222610Z",
     "start_time": "2021-02-04T03:46:37.200609Z"
    }
   },
   "outputs": [
    {
     "name": "stdout",
     "output_type": "stream",
     "text": [
      "112\n",
      "119\n",
      "100\n",
      "106\n",
      "111\n"
     ]
    }
   ],
   "source": [
    "#반복문 for\n",
    "\n",
    "#for i in range(5):\n",
    "#    print(i)\n",
    "\n",
    "list_num =[112, 119, 100, 106, 111]\n",
    "\n",
    "for number in list_num:\n",
    "    print(number)"
   ]
  },
  {
   "cell_type": "code",
   "execution_count": 63,
   "metadata": {
    "ExecuteTime": {
     "end_time": "2021-02-04T03:52:39.742632Z",
     "start_time": "2021-02-04T03:52:39.725662Z"
    }
   },
   "outputs": [
    {
     "name": "stdout",
     "output_type": "stream",
     "text": [
      "<class 'list'>\n",
      "<class 'dict'>\n"
     ]
    }
   ],
   "source": [
    "list_f=[]\n",
    "dic_a={}\n",
    "\n",
    "print(type(list_f))\n",
    "print(type(dic_a))"
   ]
  },
  {
   "cell_type": "code",
   "execution_count": 75,
   "metadata": {
    "ExecuteTime": {
     "end_time": "2021-02-04T04:18:02.048649Z",
     "start_time": "2021-02-04T04:18:02.019664Z"
    }
   },
   "outputs": [
    {
     "name": "stdout",
     "output_type": "stream",
     "text": [
      "손흥민\n",
      "30\n",
      "{'name': '손흥민', 'age': 30, 'job': 'football player'}\n",
      "{'name': '손흥민', 'age': 30, 'job': 'football player'}\n",
      "===================\n",
      "name 손흥민\n",
      "age 30\n",
      "job football player\n",
      "===================\n",
      "{'name': '손흥민', 'job': 'football player'}\n",
      "football player\n",
      "손흥민\n",
      "None\n",
      "None\n"
     ]
    }
   ],
   "source": [
    "dic_person = {\n",
    "    'name':'손흥민',\n",
    "    'age':30\n",
    "}\n",
    "\n",
    "print(dic_person['name'])\n",
    "print(dic_person['age'])\n",
    "\n",
    "dic_person['job'] = 'football player'\n",
    "print(dic_person)\n",
    "\n",
    "dic_person['age'] =30\n",
    "print(dic_person)\n",
    "\n",
    "#for반복문을 이용해서 일괄 처리\n",
    "print('===================')\n",
    "for key in dic_person:\n",
    "    print(key, dic_person[key])\n",
    "print('===================')\n",
    "\n",
    "\n",
    "#딕셔너리의 속성 삭제\n",
    "del dic_person['age']\n",
    "print(dic_person)\n",
    "\n",
    "print(dic_person['job'])\n",
    "\n",
    "#get 함수를 이용한 요소 참조\n",
    "print(dic_person.get('name'))\n",
    "print(dic_person.get('age'))\n",
    "\n",
    "if not dic_person.get('age'):\n",
    "    print(dic_person.get('age'))\n",
    "else: #None\n",
    "    print('값이 없다')\n",
    "    \n",
    "    "
   ]
  },
  {
   "cell_type": "code",
   "execution_count": 76,
   "metadata": {
    "ExecuteTime": {
     "end_time": "2021-02-04T05:40:39.139769Z",
     "start_time": "2021-02-04T05:40:39.123760Z"
    },
    "collapsed": true
   },
   "outputs": [
    {
     "name": "stdout",
     "output_type": "stream",
     "text": [
      "0\n",
      "1\n",
      "2\n",
      "3\n",
      "4\n"
     ]
    }
   ],
   "source": [
    "#for반복문에서 특정횟수만큼 반복처리를 하기위해서는 range()함수와 같이 써야한다.\n",
    "for i in range(5):\n",
    "    print(i)"
   ]
  },
  {
   "cell_type": "code",
   "execution_count": 79,
   "metadata": {
    "ExecuteTime": {
     "end_time": "2021-02-04T05:43:06.529166Z",
     "start_time": "2021-02-04T05:43:06.491188Z"
    },
    "collapsed": true
   },
   "outputs": [
    {
     "name": "stdout",
     "output_type": "stream",
     "text": [
      "range(0, 5)\n",
      "<class 'range'>\n",
      "<class 'list'>\n",
      "[0, 1, 2, 3, 4]\n"
     ]
    },
    {
     "data": {
      "text/plain": [
       "[0, 1, 2, 3, 4, 5, 6, 7, 8, 9]"
      ]
     },
     "execution_count": 79,
     "metadata": {},
     "output_type": "execute_result"
    }
   ],
   "source": [
    "range_a = range(5)\n",
    "print(range_a)\n",
    "print(type(range_a))\n",
    "\n",
    "list_tmp = list(range_a)\n",
    "print(type(list_tmp))\n",
    "print(list_tmp)\n",
    "\n",
    "list(range(10)) #마지막 번호 0~ 10-1\n",
    "list(range(3,10)) #3~ 10-1\n",
    "list(range(0, 10, 2)) # 0~ 10-1 -> 0, 2, 4, 6, 8"
   ]
  },
  {
   "cell_type": "code",
   "execution_count": 83,
   "metadata": {
    "ExecuteTime": {
     "end_time": "2021-02-04T05:52:46.252052Z",
     "start_time": "2021-02-04T05:52:46.242060Z"
    }
   },
   "outputs": [
    {
     "name": "stdout",
     "output_type": "stream",
     "text": [
      "5\n",
      "100\n",
      "0 : 100\n",
      "1 : 300\n",
      "2 : 123\n",
      "3 : 999\n",
      "4 : 456\n"
     ]
    }
   ],
   "source": [
    "array=[100, 300, 123, 999,456]\n",
    "\n",
    "print(len(array))\n",
    "print(array[0])\n",
    "\n",
    "for i in range(len(array)):\n",
    "    print(i,':',array[i])\n",
    "    "
   ]
  },
  {
   "cell_type": "code",
   "execution_count": 85,
   "metadata": {
    "ExecuteTime": {
     "end_time": "2021-02-04T05:55:12.933048Z",
     "start_time": "2021-02-04T05:55:12.918047Z"
    }
   },
   "outputs": [
    {
     "name": "stdout",
     "output_type": "stream",
     "text": [
      "4\n",
      "3\n",
      "2\n",
      "1\n",
      "0\n"
     ]
    }
   ],
   "source": [
    "for i in reversed (range(5)):\n",
    "    print(i)"
   ]
  },
  {
   "cell_type": "code",
   "execution_count": 86,
   "metadata": {
    "ExecuteTime": {
     "end_time": "2021-02-04T06:01:32.110576Z",
     "start_time": "2021-02-04T06:01:32.097591Z"
    }
   },
   "outputs": [
    {
     "name": "stdout",
     "output_type": "stream",
     "text": [
      "[1, 2, 1, 2]\n",
      "[1, 1]\n"
     ]
    }
   ],
   "source": [
    "list_ex = [1,2,1,2]\n",
    "print(list_ex)   \n",
    "\n",
    "while 2 in list_ex:\n",
    "    list_ex.remove(2)\n",
    "    \n",
    "print(list_ex)    "
   ]
  },
  {
   "cell_type": "code",
   "execution_count": null,
   "metadata": {},
   "outputs": [],
   "source": []
  },
  {
   "cell_type": "code",
   "execution_count": null,
   "metadata": {},
   "outputs": [],
   "source": []
  },
  {
   "cell_type": "code",
   "execution_count": null,
   "metadata": {},
   "outputs": [],
   "source": []
  },
  {
   "cell_type": "code",
   "execution_count": null,
   "metadata": {},
   "outputs": [],
   "source": []
  },
  {
   "cell_type": "code",
   "execution_count": null,
   "metadata": {},
   "outputs": [],
   "source": []
  },
  {
   "cell_type": "code",
   "execution_count": null,
   "metadata": {},
   "outputs": [],
   "source": []
  },
  {
   "cell_type": "code",
   "execution_count": null,
   "metadata": {},
   "outputs": [],
   "source": []
  }
 ],
 "metadata": {
  "hide_input": false,
  "kernelspec": {
   "display_name": "Python 3",
   "language": "python",
   "name": "python3"
  },
  "language_info": {
   "codemirror_mode": {
    "name": "ipython",
    "version": 3
   },
   "file_extension": ".py",
   "mimetype": "text/x-python",
   "name": "python",
   "nbconvert_exporter": "python",
   "pygments_lexer": "ipython3",
   "version": "3.8.5"
  }
 },
 "nbformat": 4,
 "nbformat_minor": 4
}
