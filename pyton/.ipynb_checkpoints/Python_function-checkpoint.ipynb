{
 "cells": [
  {
   "cell_type": "code",
   "execution_count": 7,
   "metadata": {
    "ExecuteTime": {
     "end_time": "2021-02-05T01:06:32.245554Z",
     "start_time": "2021-02-05T01:06:32.215178Z"
    }
   },
   "outputs": [
    {
     "name": "stdout",
     "output_type": "stream",
     "text": [
      "['AAA', 'BB', 'cc']\n",
      "\n",
      "<enumerate object at 0x000001E295F620C0>\n",
      "[(0, 'AAA'), (1, 'BB'), (2, 'cc')]\n",
      "0 AAA\n",
      "\n",
      "0 AAA\n",
      "1 BB\n",
      "2 cc\n"
     ]
    }
   ],
   "source": [
    "list_ex=['AAA','BB','cc']\n",
    "\n",
    "# list_ex 출력\n",
    "print(list_ex);\n",
    "print()\n",
    "\n",
    "#list_ex -> ennumerate() : 요소들의 index를 사용하기위해 enumerate\n",
    "list_ex_en = enumerate(list_ex)\n",
    "print(list_ex_en)\n",
    "\n",
    "#enumerate 객체 -> list 객체\n",
    "list_ex2 = list(list_ex_en)\n",
    "print(list_ex2)\n",
    "\n",
    "#변수의 초기화( 할당 )\n",
    "i, v = list_ex2[0]\n",
    "print(i,v)\n",
    "\n",
    "print()\n",
    "\n",
    "for i,v in list_ex2:\n",
    "    print(i,v)"
   ]
  },
  {
   "cell_type": "code",
   "execution_count": 11,
   "metadata": {
    "ExecuteTime": {
     "end_time": "2021-02-05T01:17:30.837075Z",
     "start_time": "2021-02-05T01:17:30.826353Z"
    }
   },
   "outputs": [
    {
     "name": "stdout",
     "output_type": "stream",
     "text": [
      "{'name': '메시', 'number': 10, 'team': 'FCB'}\n",
      "\n",
      "dict_items([('name', '메시'), ('number', 10), ('team', 'FCB')])\n",
      "\n",
      "메시의 정보 ============\n",
      "name : 메시\n",
      "number : 10\n",
      "team : FCB\n"
     ]
    }
   ],
   "source": [
    "#dic의 속성을 일괄 처리\n",
    "#item():dic의 속성과 값을 하나로 묶어 요소로 만들고 이 요소들의 가지는 리스트를 반환\n",
    "\n",
    "dic_player={\n",
    "    'name':'메시',\n",
    "    'number':10,\n",
    "    'team':'FCB'\n",
    "}\n",
    "\n",
    "print(dic_player)\n",
    "print()\n",
    "\n",
    "#dic -> list\n",
    "list_player_att = dic_player.items()\n",
    "print(list_player_att)\n",
    "print()\n",
    "\n",
    "print('메시의 정보 ============')\n",
    "for key, value in list_player_att:d\n",
    "    print(key,':',value)"
   ]
  },
  {
   "cell_type": "code",
   "execution_count": 18,
   "metadata": {
    "ExecuteTime": {
     "end_time": "2021-02-05T01:45:37.263392Z",
     "start_time": "2021-02-05T01:45:37.238393Z"
    }
   },
   "outputs": [
    {
     "name": "stdout",
     "output_type": "stream",
     "text": [
      "[0, 4, 16, 36, 64, 100, 144, 196, 256, 324]\n",
      "\n",
      "[0, 4, 16, 36, 64, 100, 144, 196, 256, 324]\n",
      "\n",
      "[144, 196, 256, 324]\n"
     ]
    }
   ],
   "source": [
    "# list요소 생성\n",
    "# 1\n",
    "array = []\n",
    "\n",
    "for i in range(0,20,2):\n",
    "    array.append(i*i)\n",
    "    \n",
    "print(array) \n",
    "\n",
    "print()\n",
    "\n",
    "# 2\n",
    "array2 = [i*i for i in range(0,20,2)]\n",
    "print(array2)\n",
    "\n",
    "print()\n",
    "\n",
    "#3\n",
    "array3 = [i for i in array2 if i>100]\n",
    "print(array3)\n",
    "\n"
   ]
  },
  {
   "cell_type": "code",
   "execution_count": 19,
   "metadata": {
    "ExecuteTime": {
     "end_time": "2021-02-05T01:54:41.454297Z",
     "start_time": "2021-02-05T01:54:41.442302Z"
    },
    "collapsed": true
   },
   "outputs": [
    {
     "name": "stdout",
     "output_type": "stream",
     "text": [
      "A\n",
      "A\n",
      "A\n"
     ]
    }
   ],
   "source": [
    "#함수 정의\n",
    "#def 함수이름(매개변수, 매개변수, ......)\n",
    "\n",
    "def print_3_times():\n",
    "    print('A')\n",
    "    print('A')\n",
    "    print('A')\n",
    "  \n",
    "print_3_times()"
   ]
  },
  {
   "cell_type": "code",
   "execution_count": 25,
   "metadata": {
    "ExecuteTime": {
     "end_time": "2021-02-05T01:59:40.156741Z",
     "start_time": "2021-02-05T01:59:40.127758Z"
    },
    "collapsed": true
   },
   "outputs": [
    {
     "name": "stdout",
     "output_type": "stream",
     "text": [
      "Python\n",
      "Python\n",
      "Python\n",
      "Python\n",
      "Python\n",
      "함수의 기능 실행 완료\n"
     ]
    },
    {
     "ename": "TypeError",
     "evalue": "print_n_times() missing 1 required positional argument: 'n'",
     "output_type": "error",
     "traceback": [
      "\u001b[1;31m---------------------------------------------------------------------------\u001b[0m",
      "\u001b[1;31mTypeError\u001b[0m                                 Traceback (most recent call last)",
      "\u001b[1;32m<ipython-input-25-90bc48fc9c6d>\u001b[0m in \u001b[0;36m<module>\u001b[1;34m\u001b[0m\n\u001b[0;32m      6\u001b[0m \u001b[1;33m\u001b[0m\u001b[0m\n\u001b[0;32m      7\u001b[0m \u001b[0mprint_n_times\u001b[0m\u001b[1;33m(\u001b[0m\u001b[1;34m'Python'\u001b[0m\u001b[1;33m,\u001b[0m\u001b[1;36m5\u001b[0m\u001b[1;33m)\u001b[0m\u001b[1;33m\u001b[0m\u001b[1;33m\u001b[0m\u001b[0m\n\u001b[1;32m----> 8\u001b[1;33m \u001b[0mprint_n_times\u001b[0m\u001b[1;33m(\u001b[0m\u001b[1;34m'Python'\u001b[0m\u001b[1;33m)\u001b[0m\u001b[1;33m\u001b[0m\u001b[1;33m\u001b[0m\u001b[0m\n\u001b[0m\u001b[0;32m      9\u001b[0m \u001b[1;31m#print_n_times('Python','five')\u001b[0m\u001b[1;33m\u001b[0m\u001b[1;33m\u001b[0m\u001b[1;33m\u001b[0m\u001b[0m\n",
      "\u001b[1;31mTypeError\u001b[0m: print_n_times() missing 1 required positional argument: 'n'"
     ]
    }
   ],
   "source": [
    "def print_n_times(val,n):\n",
    "    for i in range(n):\n",
    "        print(val)\n",
    "        \n",
    "    print('함수의 기능 실행 완료')\n",
    "\n",
    "print_n_times('Python',5)    \n",
    "\n",
    "#오류!! 맞춰주어야 함\n",
    "print_n_times('Python')   \n",
    "#print_n_times('Python','five')    "
   ]
  },
  {
   "cell_type": "code",
   "execution_count": 45,
   "metadata": {
    "ExecuteTime": {
     "end_time": "2021-02-05T02:18:46.898353Z",
     "start_time": "2021-02-05T02:18:46.880363Z"
    }
   },
   "outputs": [
    {
     "name": "stdout",
     "output_type": "stream",
     "text": [
      "Hi~\n",
      "funny\n",
      "Python Programming\n",
      "\n",
      "Hi~\n",
      "funny\n",
      "Python Programming\n",
      "\n",
      "Hi~\n",
      "funny\n",
      "Python Programming\n",
      "\n",
      "함수 종료\n"
     ]
    }
   ],
   "source": [
    "#함수의 가변 매개변수\n",
    "def print_times(n, *vals):\n",
    "    \n",
    "    for i in range(n):\n",
    "        \n",
    "        for val in vals:\n",
    "            print(val)\n",
    "            \n",
    "        print()\n",
    "        \n",
    "    \n",
    "    print('함수 종료')\n",
    "    \n",
    "print_times(3,'Hi~','funny', 'Python Programming')    \n",
    "            "
   ]
  },
  {
   "cell_type": "code",
   "execution_count": 44,
   "metadata": {
    "ExecuteTime": {
     "end_time": "2021-02-05T02:14:21.502337Z",
     "start_time": "2021-02-05T02:14:21.488343Z"
    }
   },
   "outputs": [
    {
     "name": "stdout",
     "output_type": "stream",
     "text": [
      "aa,bb,cc\taa/bb/cc\taa:bb:cc\n"
     ]
    }
   ],
   "source": [
    "#기본 매개변수\n",
    "#print -> sep=' ', end ='\\n' , file=sys.stdout,flush=False\n",
    "#print('aa','bb','cc')\n",
    "#print('aa','bb','cc',sep=',')\n",
    "\n",
    "print('aa','bb','cc', sep=',',end='\\t')\n",
    "print('aa','bb','cc',sep='/', end='\\t')\n",
    "print('aa','bb','cc',sep=':')\n",
    "\n",
    "\n"
   ]
  },
  {
   "cell_type": "code",
   "execution_count": 52,
   "metadata": {
    "ExecuteTime": {
     "end_time": "2021-02-05T02:20:24.182047Z",
     "start_time": "2021-02-05T02:20:24.161042Z"
    }
   },
   "outputs": [
    {
     "name": "stdout",
     "output_type": "stream",
     "text": [
      "3\n",
      "Hi~\n",
      "funny\n",
      "Python Programming\n",
      "\n",
      "3\n",
      "Hi~\n",
      "funny\n",
      "Python Programming\n",
      "\n",
      "3\n",
      "Hi~\n",
      "funny\n",
      "Python Programming\n",
      "\n",
      "함수 종료\n"
     ]
    }
   ],
   "source": [
    "#함수의 가변 매개변수\n",
    "def print_n_times(*vals, n=2):\n",
    "    \n",
    "    for i in range(n):\n",
    "        \n",
    "        for val in vals:\n",
    "            print(val)\n",
    "            \n",
    "        print()\n",
    "        \n",
    "    \n",
    "    print('함수 종료')\n",
    "    \n",
    "print_n_times(3,'Hi~','funny', 'Python Programming',n=3)    "
   ]
  },
  {
   "cell_type": "code",
   "execution_count": 53,
   "metadata": {
    "ExecuteTime": {
     "end_time": "2021-02-05T02:39:03.163856Z",
     "start_time": "2021-02-05T02:39:03.143861Z"
    }
   },
   "outputs": [
    {
     "name": "stdout",
     "output_type": "stream",
     "text": [
      "None\n"
     ]
    }
   ],
   "source": [
    "#함수의 return \n",
    "\n",
    "def func():\n",
    "    return\n",
    "\n",
    "print(func())"
   ]
  },
  {
   "cell_type": "code",
   "execution_count": 56,
   "metadata": {
    "ExecuteTime": {
     "end_time": "2021-02-05T02:52:42.589722Z",
     "start_time": "2021-02-05T02:52:42.574726Z"
    }
   },
   "outputs": [
    {
     "name": "stdout",
     "output_type": "stream",
     "text": [
      "20 10 30 40 50 60\n",
      "10 20 30 40 50 60\n"
     ]
    }
   ],
   "source": [
    "#튜플\n",
    "\n",
    "[a,b] = [10,20]\n",
    "(c,d) = (30,40)\n",
    "\n",
    "e,f =  50, 60\n",
    "\n",
    "a,b = b,a\n",
    "\n",
    "print (a,b,c,d,e,f)\n",
    "\n",
    "a,b = b,a\n",
    "\n",
    "print (a,b,c,d,e,f)"
   ]
  },
  {
   "cell_type": "code",
   "execution_count": 67,
   "metadata": {
    "ExecuteTime": {
     "end_time": "2021-02-05T03:09:44.516246Z",
     "start_time": "2021-02-05T03:09:44.500228Z"
    }
   },
   "outputs": [
    {
     "name": "stdout",
     "output_type": "stream",
     "text": [
      "<map object at 0x000001E296026BE0>\n",
      "[]\n",
      "<filter object at 0x000001E295EF4F70>\n",
      "[1, 2]\n"
     ]
    }
   ],
   "source": [
    "def power(item):\n",
    "    return item*item\n",
    "\n",
    "def under_3(item):\n",
    "    return item<3;\n",
    "\n",
    "list_a = [1,2,3,4,5]\n",
    "\n",
    "#map() 이용해서 리스트 생성\n",
    "#output_a = map(power, list_a)\n",
    "#lamda를 이용한 함수 정의\n",
    "output_list_a = map(lambda x: x*x,list_a)\n",
    "print(output_a)\n",
    "output_list_a = list(output_a)\n",
    "print(output_list_a )\n",
    "\n",
    "#filter\n",
    "#output_b = filter(under_3,list_a)\n",
    "output_b = filter(lambda x: x<3,list_a)\n",
    "print(output_b)\n",
    "output_list_b = list(output_b)\n",
    "print(output_list_b)"
   ]
  },
  {
   "cell_type": "code",
   "execution_count": 68,
   "metadata": {
    "ExecuteTime": {
     "end_time": "2021-02-05T03:17:09.465758Z",
     "start_time": "2021-02-05T03:17:09.444769Z"
    }
   },
   "outputs": [],
   "source": [
    "#open():파일 I/O 처리할 때 사용\n",
    "\n",
    "file = open('basic.txt','w')\n",
    "\n",
    "file.write('Hello~Python!!')\n",
    "\n",
    "file.close()"
   ]
  },
  {
   "cell_type": "code",
   "execution_count": 70,
   "metadata": {
    "ExecuteTime": {
     "end_time": "2021-02-05T03:22:03.323677Z",
     "start_time": "2021-02-05T03:22:03.301686Z"
    }
   },
   "outputs": [],
   "source": [
    "#with:open() 함수 사용 후 close()함수를 자동으로 호출\n",
    "\n",
    "with open('basic.txt','w') as file:\n",
    "    file.write('Hi~Python!!')"
   ]
  },
  {
   "cell_type": "code",
   "execution_count": 72,
   "metadata": {
    "ExecuteTime": {
     "end_time": "2021-02-05T03:38:35.425133Z",
     "start_time": "2021-02-05T03:38:35.410143Z"
    }
   },
   "outputs": [
    {
     "name": "stdout",
     "output_type": "stream",
     "text": [
      "<class 'str'>\n",
      "Hi~Python!!\n"
     ]
    }
   ],
   "source": [
    "#read(): 파일의 내용 텍스트 읽기\n",
    "\n",
    "with open('basic.txt', 'r') as file:\n",
    "    content = file.read()\n",
    "    print(type(content))\n",
    "    print(content)"
   ]
  },
  {
   "cell_type": "code",
   "execution_count": 75,
   "metadata": {
    "ExecuteTime": {
     "end_time": "2021-02-05T03:50:51.673667Z",
     "start_time": "2021-02-05T03:50:51.635707Z"
    }
   },
   "outputs": [
    {
     "name": "stdout",
     "output_type": "stream",
     "text": [
      "['가', '나', '다', '라', '마', '바', '사', '아', '자', '차', '카', '타', '파', '하']\n",
      "파일 생성 완료\n"
     ]
    }
   ],
   "source": [
    "import random\n",
    "\n",
    "han = list('가나다라마바사아자차카타파하')\n",
    "print(han)\n",
    "\n",
    "with open('info.txt','w') as file:\n",
    "    \n",
    "    for i in range(1000):\n",
    "        name = random.choice(han) + random.choice(han)+random.choice(han)\n",
    "        weight = random.randrange(40, 100)\n",
    "        height = random.randrange(140,200)\n",
    "\n",
    "        file.write('{},{},{}\\n'.format(name, weight, height))\n",
    "    \n",
    "    print('파일 생성 완료')\n",
    "    \n",
    "    \n",
    "    "
   ]
  },
  {
   "cell_type": "code",
   "execution_count": 91,
   "metadata": {
    "ExecuteTime": {
     "end_time": "2021-02-05T04:09:25.397284Z",
     "start_time": "2021-02-05T04:09:25.364298Z"
    }
   },
   "outputs": [
    {
     "ename": "IndentationError",
     "evalue": "unindent does not match any outer indentation level (<tokenize>, line 15)",
     "output_type": "error",
     "traceback": [
      "\u001b[1;36m  File \u001b[1;32m\"<tokenize>\"\u001b[1;36m, line \u001b[1;32m15\u001b[0m\n\u001b[1;33m    name, weight, height = line.strip().split(', ')\u001b[0m\n\u001b[1;37m    ^\u001b[0m\n\u001b[1;31mIndentationError\u001b[0m\u001b[1;31m:\u001b[0m unindent does not match any outer indentation level\n"
     ]
    }
   ],
   "source": [
    "with open('info.txt','r') as file:\n",
    "    \n",
    "    cnt = 0;\n",
    "    \n",
    "    for line in file :\n",
    "        \n",
    "         if cnt > 30 :\n",
    "            break\n",
    "\n",
    "        \n",
    "#         print(line.strip())\n",
    "        \n",
    "#         cnt += 1\n",
    "\n",
    "          name, weight, height = line.strip().split(', ')\n",
    "    \n",
    "    #변수의 값의 유무를 확인하고 값을 처리하지 않는 처리\n",
    "    if(not name) or (not weight) or (not height)\n",
    "        continue \n",
    "        \n",
    "        #비만도 계산\n",
    "        bmi = int(weight) / ((int(height)/100) * (int(height)/100))\n",
    "        \n",
    "        result = ''\n",
    "        \n",
    "        if bmi >= 23 :\n",
    "            result = '과체중'\n",
    "        elif bmi >= 18.5 :\n",
    "            result = '정상체중'\n",
    "        elif :\n",
    "            result = '저체중'\n",
    "            \n",
    "            \n",
    "\n",
    "            print('{},{},{},{},{}'.format(name,weigth,height,bmi,result))\n",
    "            \n",
    "            cnt += 1\n",
    "        \n",
    "        \n",
    "        \n",
    "        "
   ]
  },
  {
   "cell_type": "code",
   "execution_count": null,
   "metadata": {},
   "outputs": [],
   "source": []
  },
  {
   "cell_type": "code",
   "execution_count": null,
   "metadata": {},
   "outputs": [],
   "source": []
  }
 ],
 "metadata": {
  "hide_input": false,
  "kernelspec": {
   "display_name": "Python 3",
   "language": "python",
   "name": "python3"
  },
  "language_info": {
   "codemirror_mode": {
    "name": "ipython",
    "version": 3
   },
   "file_extension": ".py",
   "mimetype": "text/x-python",
   "name": "python",
   "nbconvert_exporter": "python",
   "pygments_lexer": "ipython3",
   "version": "3.8.5"
  }
 },
 "nbformat": 4,
 "nbformat_minor": 4
}
