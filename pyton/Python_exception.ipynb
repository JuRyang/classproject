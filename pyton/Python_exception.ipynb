{
 "cells": [
  {
   "cell_type": "code",
   "execution_count": null,
   "metadata": {
    "ExecuteTime": {
     "start_time": "2021-02-08T01:50:26.852Z"
    }
   },
   "outputs": [],
   "source": [
    "try:\n",
    "    number_input_a = int(input('정수를 입력해주세요.>>'))\n",
    "    \n",
    "    print(\"제곱의 연산:\",number_input_a*nember_input_a)\n",
    " \n",
    "except: #어떠한 예외이든 이곳에 처리\n",
    "    print('예외가 발생했습니다.')"
   ]
  },
  {
   "cell_type": "code",
   "execution_count": null,
   "metadata": {
    "ExecuteTime": {
     "start_time": "2021-02-08T01:50:31.740Z"
    }
   },
   "outputs": [],
   "source": [
    "try:\n",
    "    number_input_a = int(input('정수를 입력해주세요.>>'))\n",
    "    \n",
    "    print(\"제곱의 연산:\",number_input_a*nember_input_a)\n",
    " \n",
    "except: #어떠한 예외이든 이곳에 처리\n",
    "    pass #처리할 내용이 없을 떄 기술\n",
    "   "
   ]
  },
  {
   "cell_type": "code",
   "execution_count": null,
   "metadata": {
    "ExecuteTime": {
     "start_time": "2021-02-08T01:50:38.389Z"
    }
   },
   "outputs": [],
   "source": [
    "try:\n",
    "    #예외 발생 예상 코드\n",
    "    number_input_a = int(input('정수를 입력해주세요.>>'))\n",
    "\n",
    "except: #어떠한 예외이든 이곳에 처리\n",
    "    #pass #처리할 내용이 없을 떄 기술\n",
    "    print('예외가 발생했습니다.')\n",
    "    print(type(e))\n",
    "    print(e)\n",
    "else:\n",
    "    print(\"제곱의 연산:\",number_input_a*nember_input_a)\n",
    "finally\n",
    "print('프로그램 종류')\n",
    "    "
   ]
  },
  {
   "cell_type": "code",
   "execution_count": null,
   "metadata": {
    "ExecuteTime": {
     "start_time": "2021-02-08T01:50:42.220Z"
    }
   },
   "outputs": [],
   "source": [
    "list_a=[10,20,30,40,50]\n",
    "\n",
    "  try:\n",
    "        idx =int(input('리스트의 index를 입력하세요>>')) # 예외발생 예상 구문\n",
    "        print('{} 번째 요소 : {}'. format(idx, list_a[idx]))# 예외발생 예상 구문\n",
    "        \n",
    "except ValueError as ve:\n",
    "            print('숫자만 입력해주세요')\n",
    "            print(ve)\n",
    "except indexEffor as le:\n",
    "            print('리스트의 범위를 벗어난 인덕스 값입니다.')   \n",
    "        print(e)"
   ]
  },
  {
   "cell_type": "code",
   "execution_count": null,
   "metadata": {},
   "outputs": [],
   "source": []
  },
  {
   "cell_type": "code",
   "execution_count": null,
   "metadata": {},
   "outputs": [],
   "source": []
  },
  {
   "cell_type": "code",
   "execution_count": null,
   "metadata": {},
   "outputs": [],
   "source": []
  }
 ],
 "metadata": {
  "hide_input": false,
  "kernelspec": {
   "display_name": "Python 3",
   "language": "python",
   "name": "python3"
  },
  "language_info": {
   "codemirror_mode": {
    "name": "ipython",
    "version": 3
   },
   "file_extension": ".py",
   "mimetype": "text/x-python",
   "name": "python",
   "nbconvert_exporter": "python",
   "pygments_lexer": "ipython3",
   "version": "3.8.5"
  }
 },
 "nbformat": 4,
 "nbformat_minor": 4
}
