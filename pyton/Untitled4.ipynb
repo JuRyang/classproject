{
 "cells": [
  {
   "cell_type": "code",
   "execution_count": 1,
   "metadata": {
    "ExecuteTime": {
     "end_time": "2021-02-27T10:11:06.455618Z",
     "start_time": "2021-02-27T10:11:06.044854Z"
    }
   },
   "outputs": [],
   "source": [
    "import pymysql\n",
    "import csv\n",
    "\n",
    "conn = pymysql.connect(host='127.0.0.1', user='withearth', password='aia', db='withearth',charset='utf8')\n",
    "curs = conn.cursor()\n",
    "conn.commit()   \n",
    "\n",
    "\n",
    "\n",
    "f = open('starbucks.csv','r' ,encoding='cp949')\n",
    "rd= csv.reader(f)\n",
    "\n",
    "for row in rd:\n",
    "   cafe_idx=(row[0])\n",
    "   cafe_name=(row[1])\n",
    "   location=(row[2])\n",
    "   qrcode=(row[3])\n",
    "   cafe_lat=(row[4])\n",
    "   cafe_lon=(row[5])\n",
    "\n",
    " \n",
    "    #print(line)\n",
    "\n",
    "sql =\"insert into withearth.test (cafe_idx,cafe_name,location,qrcode,cafe_lat,cafe_lon) values (%s,%s,%s,%s,%s,%s)\"\n",
    "\n",
    "curs.execute(sql,(cafe_idx,cafe_name,location,qrcode,cafe_lat,cafe_lon))\n",
    "\n",
    "\n",
    "conn.commit()\n",
    "\n",
    "conn.close()\n",
    "f.close()\n",
    "\n",
    "\n"
   ]
  }
 ],
 "metadata": {
  "hide_input": false,
  "kernelspec": {
   "display_name": "Python 3",
   "language": "python",
   "name": "python3"
  },
  "language_info": {
   "codemirror_mode": {
    "name": "ipython",
    "version": 3
   },
   "file_extension": ".py",
   "mimetype": "text/x-python",
   "name": "python",
   "nbconvert_exporter": "python",
   "pygments_lexer": "ipython3",
   "version": "3.8.5"
  }
 },
 "nbformat": 4,
 "nbformat_minor": 4
}
