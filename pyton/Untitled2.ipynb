{
 "cells": [
  {
   "cell_type": "code",
   "execution_count": 1,
   "metadata": {
    "ExecuteTime": {
     "end_time": "2021-02-16T05:21:11.565422Z",
     "start_time": "2021-02-16T05:21:10.618181Z"
    }
   },
   "outputs": [
    {
     "name": "stdout",
     "output_type": "stream",
     "text": [
      "total-Count 0\n",
      "insert-count 0\n"
     ]
    },
    {
     "ename": "IndexError",
     "evalue": "list index out of range",
     "output_type": "error",
     "traceback": [
      "\u001b[1;31m---------------------------------------------------------------------------\u001b[0m",
      "\u001b[1;31mIndexError\u001b[0m                                Traceback (most recent call last)",
      "\u001b[1;32m<ipython-input-1-1e7abfc949b9>\u001b[0m in \u001b[0;36m<module>\u001b[1;34m\u001b[0m\n\u001b[0;32m     65\u001b[0m \u001b[1;33m\u001b[0m\u001b[0m\n\u001b[0;32m     66\u001b[0m \u001b[1;32mfor\u001b[0m \u001b[0mi\u001b[0m \u001b[1;32min\u001b[0m \u001b[0mrange\u001b[0m\u001b[1;33m(\u001b[0m\u001b[1;36m20\u001b[0m\u001b[1;33m)\u001b[0m\u001b[1;33m:\u001b[0m\u001b[1;33m\u001b[0m\u001b[1;33m\u001b[0m\u001b[0m\n\u001b[1;32m---> 67\u001b[1;33m     \u001b[0mprint\u001b[0m\u001b[1;33m(\u001b[0m\u001b[1;34m'data-'\u001b[0m\u001b[1;33m,\u001b[0m\u001b[0mi\u001b[0m\u001b[1;33m,\u001b[0m\u001b[1;34m':'\u001b[0m\u001b[1;33m,\u001b[0m \u001b[0msample_list\u001b[0m\u001b[1;33m[\u001b[0m\u001b[0mi\u001b[0m\u001b[1;33m]\u001b[0m\u001b[1;33m)\u001b[0m\u001b[1;33m\u001b[0m\u001b[1;33m\u001b[0m\u001b[0m\n\u001b[0m\u001b[0;32m     68\u001b[0m \u001b[1;33m\u001b[0m\u001b[0m\n\u001b[0;32m     69\u001b[0m \u001b[1;32mwith\u001b[0m \u001b[0mopen\u001b[0m\u001b[1;33m(\u001b[0m\u001b[1;34m'new_shop_coffe_seoul_data.csv'\u001b[0m\u001b[1;33m,\u001b[0m \u001b[1;34m'w'\u001b[0m\u001b[1;33m,\u001b[0m \u001b[0mencoding\u001b[0m\u001b[1;33m=\u001b[0m\u001b[1;34m'utf-8'\u001b[0m\u001b[1;33m)\u001b[0m \u001b[1;32mas\u001b[0m \u001b[0mnew_file\u001b[0m\u001b[1;33m:\u001b[0m\u001b[1;33m\u001b[0m\u001b[1;33m\u001b[0m\u001b[0m\n",
      "\u001b[1;31mIndexError\u001b[0m: list index out of range"
     ]
    }
   ],
   "source": [
    "import logging\n",
    "import logging.config\n",
    "import csv\n",
    "\n",
    "\n",
    "##############################\n",
    "\n",
    "#logging.config.fileConfig('logging.conf')\n",
    "logger = logging.getLogger('main')\n",
    "\n",
    "formatter = logging.Formatter('%(asctime)s %(levelname)s %(process)d %(message)s') \n",
    "data_log_handler = logging.FileHandler('shop_data.log')\n",
    "data_log_handler.setFormatter(formatter)\n",
    "\n",
    "logger.addHandler(data_log_handler)\n",
    "\n",
    "logger.setLevel(logging.DEBUG)\n",
    "##############################\n",
    "\n",
    "line_counter = 0    # csv 파일의 총 행의 수\n",
    "data_header = []    # 리스트의 해더\n",
    "sample_list = []    # 리스트의 요소(행)\n",
    "insert_count = 0    # 새로운 행이 몇개 입력되었는지 카운트\n",
    "\n",
    "insert_list = []\n",
    "\n",
    "\n",
    "# 프로그램의 작업이 시작할 때 info\n",
    "logger.info('Open file {}'.format('07_24_05_P_1.csv'))\n",
    "\n",
    "# 07_24_05_P_1.csv -> sapmle_list 리스트에 저장\n",
    "try:\n",
    "    with open('07_24_05_P_11.csv') as file:\n",
    "        while True:\n",
    "            data = file.readline().strip('\\n')\n",
    "\n",
    "            # 마지막 줄 -> 더이상 가져올 데이터가 없으면 None 반환 -> 반복문을 탈출\n",
    "            if not data:\n",
    "                break\n",
    "\n",
    "            if line_counter == 0 : # header 저장\n",
    "                data_header = data.split(',')\n",
    "                print(data_header)\n",
    "            else:\n",
    "                # 새로운 리스트에 추가할 행\n",
    "                insert_list = data.split(',')\n",
    "                #insert_list[6].strip()\n",
    "                \n",
    "                #print(insert_list)\n",
    "                # 1-> 영업중, 3-> 폐업 , 커피숍, 서울지역\n",
    "                if insert_list[1] == '1' and insert_list[4] == '커피숍' and insert_list[2].find(u\"서울특별시\") != -1:\n",
    "                    sample_list.append(insert_list)\n",
    "                    insert_count += 1\n",
    "\n",
    "            line_counter += 1\n",
    "            \n",
    "        logger.info('data read complete')\n",
    "\n",
    "except FileNotFoundError as e:\n",
    "    # 파일이 없는경우 예외에 대한 로그 등록\n",
    "    logger.error('File Not Found {}'.format(e))\n",
    "\n",
    "print('total-Count', line_counter)\n",
    "print('insert-count', insert_count)\n",
    "\n",
    "for i in range(20):\n",
    "    print('data-',i,':', sample_list[i])\n",
    "\n",
    "with open('new_shop_coffe_seoul_data.csv', 'w', encoding='utf8') as new_file:\n",
    "    writer = csv.writer(new_file, delimiter=',', quotechar=\"'\", quoting=csv.QUOTE_ALL)\n",
    "\n",
    "    # 해더 쓰기\n",
    "    writer.writerow(data_header)\n",
    "    for row in sample_list:\n",
    "        writer.writerow(row)\n",
    "    print('쓰기 완료')\n",
    "    logger.info('writer ok!')\n",
    "\n",
    "\n",
    "# 현재 영업중인 서울시에 위치한 커피숍에서 스타벅스만 찾아 저장\n",
    "for shop in sample_list:\n",
    "    if shop[3].find(u\"스타벅스\") != -1:\n",
    "        insert_list.append(shop)\n",
    "\n",
    "with open('Cafe_data.csv', 'w', encoding='utf8') as star_file:\n",
    "    for star_shop in insert_list:\n",
    "       star_file.write(','.join(star_shop).strip('\\n')+'\\n') \n",
    "    print('서울_스타벅스_리스트 파일 생성')\n",
    "    logger.info('writer ok!')\n",
    "\n",
    "print('파일작성이 완료되었습니다.')\n",
    "logger.info('program exit')\n",
    "\n",
    "\n",
    "for s_shop in insert_list:\n",
    "    print(s_shop)\n"
   ]
  },
  {
   "cell_type": "code",
   "execution_count": null,
   "metadata": {},
   "outputs": [],
   "source": []
  }
 ],
 "metadata": {
  "hide_input": false,
  "kernelspec": {
   "display_name": "Python 3",
   "language": "python",
   "name": "python3"
  },
  "language_info": {
   "codemirror_mode": {
    "name": "ipython",
    "version": 3
   },
   "file_extension": ".py",
   "mimetype": "text/x-python",
   "name": "python",
   "nbconvert_exporter": "python",
   "pygments_lexer": "ipython3",
   "version": "3.8.5"
  }
 },
 "nbformat": 4,
 "nbformat_minor": 4
}
